{
 "cells": [
  {
   "cell_type": "markdown",
   "metadata": {},
   "source": [
    "# Neural Machine Translation\n",
    "\n",
    "Welcome to your first programming assignment for this week! \n",
    "\n",
    "* You will build a Neural Machine Translation (NMT) model to translate human-readable dates (\"25th of June, 2009\") into machine-readable dates (\"2009-06-25\"). \n",
    "* You will do this using an attention model, one of the most sophisticated sequence-to-sequence models. \n",
    "\n",
    "This notebook was produced together with NVIDIA's Deep Learning Institute. "
   ]
  },
  {
   "cell_type": "markdown",
   "metadata": {},
   "source": [
    "Let's load all the packages you will need for this assignment."
   ]
  },
  {
   "cell_type": "code",
   "execution_count": 1,
   "metadata": {},
   "outputs": [
    {
     "name": "stderr",
     "output_type": "stream",
     "text": [
      "Using TensorFlow backend.\n"
     ]
    }
   ],
   "source": [
    "from keras.layers import Bidirectional, Concatenate, Permute, Dot, Input, LSTM, Multiply\n",
    "from keras.layers import RepeatVector, Dense, Activation, Lambda\n",
    "from keras.optimizers import Adam\n",
    "from keras.utils import to_categorical\n",
    "from keras.models import load_model, Model\n",
    "import keras.backend as K\n",
    "import numpy as np\n",
    "\n",
    "from faker import Faker\n",
    "import random\n",
    "from tqdm import tqdm\n",
    "from babel.dates import format_date\n",
    "from nmt_utils import *\n",
    "import matplotlib.pyplot as plt\n",
    "%matplotlib inline"
   ]
  },
  {
   "cell_type": "markdown",
   "metadata": {},
   "source": [
    "## 1 - Translating human readable dates into machine readable dates\n",
    "\n",
    "* The model you will build here could be used to translate from one language to another, such as translating from English to Hindi. \n",
    "* However, language translation requires massive datasets and usually takes days of training on GPUs. \n",
    "* To give you a place to experiment with these models without using massive datasets, we will perform a simpler \"date translation\" task. \n",
    "* The network will input a date written in a variety of possible formats (*e.g. \"the 29th of August 1958\", \"03/30/1968\", \"24 JUNE 1987\"*) \n",
    "* The network will translate them into standardized, machine readable dates (*e.g. \"1958-08-29\", \"1968-03-30\", \"1987-06-24\"*). \n",
    "* We will have the network learn to output dates in the common machine-readable format YYYY-MM-DD. \n",
    "\n",
    "<!-- \n",
    "Take a look at [nmt_utils.py](./nmt_utils.py) to see all the formatting. Count and figure out how the formats work, you will need this knowledge later. !--> "
   ]
  },
  {
   "cell_type": "markdown",
   "metadata": {},
   "source": [
    "### 1.1 - Dataset\n",
    "\n",
    "We will train the model on a dataset of 10,000 human readable dates and their equivalent, standardized, machine readable dates. Let's run the following cells to load the dataset and print some examples. "
   ]
  },
  {
   "cell_type": "code",
   "execution_count": 2,
   "metadata": {},
   "outputs": [
    {
     "name": "stderr",
     "output_type": "stream",
     "text": [
      "100%|██████████| 10000/10000 [00:00<00:00, 17833.77it/s]\n"
     ]
    }
   ],
   "source": [
    "m = 10000\n",
    "dataset, human_vocab, machine_vocab, inv_machine_vocab = load_dataset(m)"
   ]
  },
  {
   "cell_type": "code",
   "execution_count": 3,
   "metadata": {},
   "outputs": [
    {
     "data": {
      "text/plain": [
       "[('9 may 1998', '1998-05-09'),\n",
       " ('10.11.19', '2019-11-10'),\n",
       " ('9/10/70', '1970-09-10'),\n",
       " ('saturday april 28 1990', '1990-04-28'),\n",
       " ('thursday january 26 1995', '1995-01-26'),\n",
       " ('monday march 7 1983', '1983-03-07'),\n",
       " ('sunday may 22 1988', '1988-05-22'),\n",
       " ('08 jul 2008', '2008-07-08'),\n",
       " ('8 sep 1999', '1999-09-08'),\n",
       " ('thursday january 1 1981', '1981-01-01')]"
      ]
     },
     "execution_count": 3,
     "metadata": {},
     "output_type": "execute_result"
    }
   ],
   "source": [
    "dataset[:10]"
   ]
  },
  {
   "cell_type": "markdown",
   "metadata": {},
   "source": [
    "You've loaded:\n",
    "- `dataset`: a list of tuples of (human readable date, machine readable date).\n",
    "- `human_vocab`: a python dictionary mapping all characters used in the human readable dates to an integer-valued index.\n",
    "- `machine_vocab`: a python dictionary mapping all characters used in machine readable dates to an integer-valued index. \n",
    "    - **Note**: These indices are not necessarily consistent with `human_vocab`. \n",
    "- `inv_machine_vocab`: the inverse dictionary of `machine_vocab`, mapping from indices back to characters. \n",
    "\n",
    "Let's preprocess the data and map the raw text data into the index values. \n",
    "- We will set Tx=30 \n",
    "    - We assume Tx is the maximum length of the human readable date.\n",
    "    - If we get a longer input, we would have to truncate it.\n",
    "- We will set Ty=10\n",
    "    - \"YYYY-MM-DD\" is 10 characters long."
   ]
  },
  {
   "cell_type": "code",
   "execution_count": 4,
   "metadata": {},
   "outputs": [
    {
     "name": "stdout",
     "output_type": "stream",
     "text": [
      "X.shape: (10000, 30)\n",
      "Y.shape: (10000, 10)\n",
      "Xoh.shape: (10000, 30, 37)\n",
      "Yoh.shape: (10000, 10, 11)\n"
     ]
    }
   ],
   "source": [
    "Tx = 30\n",
    "Ty = 10\n",
    "X, Y, Xoh, Yoh = preprocess_data(dataset, human_vocab, machine_vocab, Tx, Ty)\n",
    "\n",
    "print(\"X.shape:\", X.shape)\n",
    "print(\"Y.shape:\", Y.shape)\n",
    "print(\"Xoh.shape:\", Xoh.shape)\n",
    "print(\"Yoh.shape:\", Yoh.shape)"
   ]
  },
  {
   "cell_type": "code",
   "execution_count": 5,
   "metadata": {},
   "outputs": [
    {
     "data": {
      "text/plain": [
       "array([12,  0, 24, 13, 34,  0,  4, 12, 12, 11, 36, 36, 36, 36, 36, 36, 36,\n",
       "       36, 36, 36, 36, 36, 36, 36, 36, 36, 36, 36, 36, 36])"
      ]
     },
     "execution_count": 5,
     "metadata": {},
     "output_type": "execute_result"
    }
   ],
   "source": [
    "X[0,:]"
   ]
  },
  {
   "cell_type": "code",
   "execution_count": 6,
   "metadata": {},
   "outputs": [
    {
     "data": {
      "text/plain": [
       "array([ 2, 10, 10,  9,  0,  1,  6,  0,  1, 10])"
      ]
     },
     "execution_count": 6,
     "metadata": {},
     "output_type": "execute_result"
    }
   ],
   "source": [
    "Y[0,:]"
   ]
  },
  {
   "cell_type": "markdown",
   "metadata": {},
   "source": [
    "You now have:\n",
    "- `X`: a processed version of the human readable dates in the training set.\n",
    "    - Each character in X is replaced by an index (integer) mapped to the character using `human_vocab`. \n",
    "    - Each date is padded to ensure a length of $T_x$ using a special character (< pad >). \n",
    "    - `X.shape = (m, Tx)` where m is the number of training examples in a batch.\n",
    "- `Y`: a processed version of the machine readable dates in the training set.\n",
    "    - Each character is replaced by the index (integer) it is mapped to in `machine_vocab`. \n",
    "    - `Y.shape = (m, Ty)`. \n",
    "- `Xoh`: one-hot version of `X`\n",
    "    - Each index in `X` is converted to the one-hot representation (if the index is 2, the one-hot version has the index position 2 set to 1, and the remaining positions are 0.\n",
    "    - `Xoh.shape = (m, Tx, len(human_vocab))`\n",
    "- `Yoh`: one-hot version of `Y`\n",
    "    - Each index in `Y` is converted to the one-hot representation. \n",
    "    - `Yoh.shape = (m, Tx, len(machine_vocab))`. \n",
    "    - `len(machine_vocab) = 11` since there are 10 numeric digits (0 to 9) and the `-` symbol."
   ]
  },
  {
   "cell_type": "markdown",
   "metadata": {},
   "source": [
    "* Let's also look at some examples of preprocessed training examples. \n",
    "* Feel free to play with `index` in the cell below to navigate the dataset and see how source/target dates are preprocessed. "
   ]
  },
  {
   "cell_type": "code",
   "execution_count": 7,
   "metadata": {},
   "outputs": [
    {
     "name": "stdout",
     "output_type": "stream",
     "text": [
      "Source date: 9 may 1998\n",
      "Target date: 1998-05-09\n",
      "\n",
      "Source after preprocessing (indices): [12  0 24 13 34  0  4 12 12 11 36 36 36 36 36 36 36 36 36 36 36 36 36 36\n",
      " 36 36 36 36 36 36]\n",
      "Target after preprocessing (indices): [ 2 10 10  9  0  1  6  0  1 10]\n",
      "\n",
      "Source after preprocessing (one-hot): [[0. 0. 0. ... 0. 0. 0.]\n",
      " [1. 0. 0. ... 0. 0. 0.]\n",
      " [0. 0. 0. ... 0. 0. 0.]\n",
      " ...\n",
      " [0. 0. 0. ... 0. 0. 1.]\n",
      " [0. 0. 0. ... 0. 0. 1.]\n",
      " [0. 0. 0. ... 0. 0. 1.]]\n",
      "Target after preprocessing (one-hot): [[0. 0. 1. 0. 0. 0. 0. 0. 0. 0. 0.]\n",
      " [0. 0. 0. 0. 0. 0. 0. 0. 0. 0. 1.]\n",
      " [0. 0. 0. 0. 0. 0. 0. 0. 0. 0. 1.]\n",
      " [0. 0. 0. 0. 0. 0. 0. 0. 0. 1. 0.]\n",
      " [1. 0. 0. 0. 0. 0. 0. 0. 0. 0. 0.]\n",
      " [0. 1. 0. 0. 0. 0. 0. 0. 0. 0. 0.]\n",
      " [0. 0. 0. 0. 0. 0. 1. 0. 0. 0. 0.]\n",
      " [1. 0. 0. 0. 0. 0. 0. 0. 0. 0. 0.]\n",
      " [0. 1. 0. 0. 0. 0. 0. 0. 0. 0. 0.]\n",
      " [0. 0. 0. 0. 0. 0. 0. 0. 0. 0. 1.]]\n"
     ]
    }
   ],
   "source": [
    "index = 0\n",
    "print(\"Source date:\", dataset[index][0])\n",
    "print(\"Target date:\", dataset[index][1])\n",
    "print()\n",
    "print(\"Source after preprocessing (indices):\", X[index])\n",
    "print(\"Target after preprocessing (indices):\", Y[index])\n",
    "print()\n",
    "print(\"Source after preprocessing (one-hot):\", Xoh[index])\n",
    "print(\"Target after preprocessing (one-hot):\", Yoh[index])"
   ]
  },
  {
   "cell_type": "markdown",
   "metadata": {},
   "source": [
    "## 2 - Neural machine translation with attention\n",
    "\n",
    "* If you had to translate a book's paragraph from French to English, you would not read the whole paragraph, then close the book and translate. \n",
    "* Even during the translation process, you would read/re-read and focus on the parts of the French paragraph corresponding to the parts of the English you are writing down. \n",
    "* The attention mechanism tells a Neural Machine Translation model where it should pay attention to at any step. \n",
    "\n",
    "\n",
    "### 2.1 - Attention mechanism\n",
    "\n",
    "In this part, you will implement the attention mechanism presented in the lecture videos. \n",
    "* Here is a figure to remind you how the model works. \n",
    "    * The diagram on the left shows the attention model. \n",
    "    * The diagram on the right shows what one \"attention\" step does to calculate the attention variables $\\alpha^{\\langle t, t' \\rangle}$.\n",
    "    * The attention variables $\\alpha^{\\langle t, t' \\rangle}$ are used to compute the context variable $context^{\\langle t \\rangle}$ for each timestep in the output ($t=1, \\ldots, T_y$). \n",
    "\n",
    "<table>\n",
    "<td> \n",
    "<img src=\"images/attn_model.png\" style=\"width:500;height:500px;\"> <br>\n",
    "</td> \n",
    "<td> \n",
    "<img src=\"images/attn_mechanism.png\" style=\"width:500;height:500px;\"> <br>\n",
    "</td> \n",
    "</table>\n",
    "<caption><center> **Figure 1**: Neural machine translation with attention</center></caption>\n"
   ]
  },
  {
   "cell_type": "markdown",
   "metadata": {},
   "source": [
    "Here are some properties of the model that you may notice: \n",
    "\n",
    "#### Pre-attention and Post-attention LSTMs on both sides of the attention mechanism\n",
    "- There are two separate LSTMs in this model (see diagram on the left): pre-attention and post-attention LSTMs.\n",
    "- *Pre-attention* Bi-LSTM is the one at the bottom of the picture is a Bi-directional LSTM and comes *before* the attention mechanism.\n",
    "    - The attention mechanism is shown in the middle of the left-hand diagram.\n",
    "    - The pre-attention Bi-LSTM goes through $T_x$ time steps\n",
    "- *Post-attention* LSTM: at the top of the diagram comes *after* the attention mechanism. \n",
    "    - The post-attention LSTM goes through $T_y$ time steps. \n",
    "\n",
    "- The post-attention LSTM passes the hidden state $s^{\\langle t \\rangle}$ and cell state $c^{\\langle t \\rangle}$ from one time step to the next. "
   ]
  },
  {
   "cell_type": "markdown",
   "metadata": {},
   "source": [
    "#### An LSTM has both a hidden state and cell state\n",
    "* In the lecture videos, we were using only a basic RNN for the post-attention sequence model\n",
    "    * This means that the state captured by the RNN was outputting only the hidden state $s^{\\langle t\\rangle}$. \n",
    "* In this assignment, we are using an LSTM instead of a basic RNN.\n",
    "    * So the LSTM has both the hidden state $s^{\\langle t\\rangle}$ and the cell state $c^{\\langle t\\rangle}$. "
   ]
  },
  {
   "cell_type": "markdown",
   "metadata": {},
   "source": [
    "#### Each time step does not use predictions from the previous time step\n",
    "* Unlike previous text generation examples earlier in the course, in this model, the post-attention LSTM at time $t$ does not take the previous time step's prediction $y^{\\langle t-1 \\rangle}$ as input.\n",
    "* The post-attention LSTM at time 't' only takes the hidden state $s^{\\langle t\\rangle}$ and cell state $c^{\\langle t\\rangle}$ as input. \n",
    "* We have designed the model this way because unlike language generation (where adjacent characters are highly correlated) there isn't as strong a dependency between the previous character and the next character in a YYYY-MM-DD date."
   ]
  },
  {
   "cell_type": "markdown",
   "metadata": {},
   "source": [
    "#### Concatenation of hidden states from the forward and backward pre-attention LSTMs\n",
    "- $\\overrightarrow{a}^{\\langle t \\rangle}$: hidden state of the forward-direction, pre-attention LSTM.\n",
    "- $\\overleftarrow{a}^{\\langle t \\rangle}$: hidden state of the backward-direction, pre-attention LSTM.\n",
    "- $a^{\\langle t \\rangle} = [\\overrightarrow{a}^{\\langle t \\rangle}, \\overleftarrow{a}^{\\langle t \\rangle}]$: the concatenation of the activations of both the forward-direction $\\overrightarrow{a}^{\\langle t \\rangle}$ and backward-directions $\\overleftarrow{a}^{\\langle t \\rangle}$ of the pre-attention Bi-LSTM. "
   ]
  },
  {
   "cell_type": "markdown",
   "metadata": {},
   "source": [
    "#### Computing \"energies\" $e^{\\langle t, t' \\rangle}$ as a function of $s^{\\langle t-1 \\rangle}$ and $a^{\\langle t' \\rangle}$\n",
    "- Recall in the lesson videos \"Attention Model\", at time 6:45 to 8:16, the definition of \"e\" as a function of $s^{\\langle t-1 \\rangle}$ and $a^{\\langle t \\rangle}$.\n",
    "    - \"e\" is called the \"energies\" variable.\n",
    "    - $s^{\\langle t-1 \\rangle}$ is the hidden state of the post-attention LSTM\n",
    "    - $a^{\\langle t' \\rangle}$ is the hidden state of the pre-attention LSTM.\n",
    "    - $s^{\\langle t-1 \\rangle}$ and $a^{\\langle t \\rangle}$ are fed into a simple neural network, which learns the function to output $e^{\\langle t, t' \\rangle}$.\n",
    "    - $e^{\\langle t, t' \\rangle}$ is then used when computing the attention $a^{\\langle t, t' \\rangle}$ that $y^{\\langle t \\rangle}$ should pay to $a^{\\langle t' \\rangle}$."
   ]
  },
  {
   "cell_type": "markdown",
   "metadata": {},
   "source": [
    "- The diagram on the right of figure 1 uses a `RepeatVector` node to copy $s^{\\langle t-1 \\rangle}$'s value $T_x$ times.\n",
    "- Then it uses `Concatenation` to concatenate $s^{\\langle t-1 \\rangle}$ and $a^{\\langle t \\rangle}$.\n",
    "- The concatenation of $s^{\\langle t-1 \\rangle}$ and $a^{\\langle t \\rangle}$ is fed into a \"Dense\" layer, which computes $e^{\\langle t, t' \\rangle}$. \n",
    "- $e^{\\langle t, t' \\rangle}$ is then passed through a softmax to compute $\\alpha^{\\langle t, t' \\rangle}$.\n",
    "- Note that the diagram doesn't explicitly show variable $e^{\\langle t, t' \\rangle}$, but $e^{\\langle t, t' \\rangle}$ is above the Dense layer and below the Softmax layer in the diagram in the right half of figure 1.\n",
    "- We'll explain how to use `RepeatVector` and `Concatenation` in Keras below. "
   ]
  },
  {
   "cell_type": "markdown",
   "metadata": {},
   "source": [
    "### Implementation Details\n",
    "   \n",
    "Let's implement this neural translator. You will start by implementing two functions: `one_step_attention()` and `model()`.\n",
    "\n",
    "#### one_step_attention\n",
    "* The inputs to the one_step_attention at time step $t$ are:\n",
    "    - $[a^{<1>},a^{<2>}, ..., a^{<T_x>}]$: all hidden states of the pre-attention Bi-LSTM.\n",
    "    - $s^{<t-1>}$: the previous hidden state of the post-attention LSTM \n",
    "* one_step_attention computes:\n",
    "    - $[\\alpha^{<t,1>},\\alpha^{<t,2>}, ..., \\alpha^{<t,T_x>}]$: the attention weights\n",
    "    - $context^{ \\langle t \\rangle }$: the context vector:\n",
    "    \n",
    "$$context^{<t>} = \\sum_{t' = 1}^{T_x} \\alpha^{<t,t'>}a^{<t'>}\\tag{1}$$ \n",
    "\n",
    "##### Clarifying 'context' and 'c'\n",
    "- In the lecture videos, the context was denoted $c^{\\langle t \\rangle}$\n",
    "- In the assignment, we are calling the context $context^{\\langle t \\rangle}$.\n",
    "    - This is to avoid confusion with the post-attention LSTM's internal memory cell variable, which is also denoted $c^{\\langle t \\rangle}$."
   ]
  },
  {
   "cell_type": "markdown",
   "metadata": {},
   "source": [
    "#### Implement `one_step_attention`\n",
    "\n",
    "**Exercise**: Implement `one_step_attention()`. \n",
    "\n",
    "* The function `model()` will call the layers in `one_step_attention()` $T_y$ using a for-loop.\n",
    "* It is important that all $T_y$ copies have the same weights. \n",
    "    * It should not reinitialize the weights every time. \n",
    "    * In other words, all $T_y$ steps should have shared weights. \n",
    "* Here's how you can implement layers with shareable weights in Keras:\n",
    "    1. Define the layer objects in a variable scope that is outside of the `one_step_attention` function.  For example, defining the objects as global variables would work.\n",
    "        - Note that defining these variables inside the scope of the function `model` would technically work, since `model` will then call the `one_step_attention` function.  For the purposes of making grading and troubleshooting easier, we are defining these as global variables.  Note that the automatic grader will expect these to be global variables as well.\n",
    "    2. Call these objects when propagating the input.\n",
    "* We have defined the layers you need as global variables. \n",
    "    * Please run the following cells to create them. \n",
    "    * Please note that the automatic grader expects these global variables with the given variable names.  For grading purposes, please do not rename the global variables.\n",
    "* Please check the Keras documentation to learn more about these layers.  The layers are functions.  Below are examples of how to call these functions.\n",
    "    * [RepeatVector()](https://keras.io/layers/core/#repeatvector)\n",
    "```Python\n",
    "var_repeated = repeat_layer(var1)\n",
    "```\n",
    "    * [Concatenate()](https://keras.io/layers/merge/#concatenate)   \n",
    "```Python\n",
    "concatenated_vars = concatenate_layer([var1,var2,var3])\n",
    "```\n",
    "    * [Dense()](https://keras.io/layers/core/#dense)  \n",
    "```Python\n",
    "var_out = dense_layer(var_in)\n",
    "```\n",
    "    * [Activation()](https://keras.io/layers/core/#activation)  \n",
    "```Python\n",
    "activation = activation_layer(var_in)  \n",
    "```\n",
    "    * [Dot()](https://keras.io/layers/merge/#dot)  \n",
    "```Python\n",
    "dot_product = dot_layer([var1,var2])\n",
    "```"
   ]
  },
  {
   "cell_type": "code",
   "execution_count": 8,
   "metadata": {},
   "outputs": [],
   "source": [
    "# Defined shared layers as global variables\n",
    "repeator = RepeatVector(Tx)\n",
    "concatenator = Concatenate(axis=-1)\n",
    "densor1 = Dense(10, activation = \"tanh\")\n",
    "densor2 = Dense(1, activation = \"relu\")\n",
    "activator = Activation(softmax, name='attention_weights') # We are using a custom softmax(axis = 1) loaded in this notebook\n",
    "dotor = Dot(axes = 1)"
   ]
  },
  {
   "cell_type": "code",
   "execution_count": 9,
   "metadata": {},
   "outputs": [],
   "source": [
    "# GRADED FUNCTION: one_step_attention\n",
    "\n",
    "def one_step_attention(a, s_prev):\n",
    "    \"\"\"\n",
    "    Performs one step of attention: Outputs a context vector computed as a dot product of the attention weights\n",
    "    \"alphas\" and the hidden states \"a\" of the Bi-LSTM.\n",
    "    \n",
    "    Arguments:\n",
    "    a -- hidden state output of the Bi-LSTM, numpy-array of shape (m, Tx, 2*n_a)\n",
    "    s_prev -- previous hidden state of the (post-attention) LSTM, numpy-array of shape (m, n_s)\n",
    "    \n",
    "    Returns:\n",
    "    context -- context vector, input of the next (post-attention) LSTM cell\n",
    "    \"\"\"\n",
    "    \n",
    "    ### START CODE HERE ###\n",
    "    # Use repeator to repeat s_prev to be of shape (m, Tx, n_s) so that you can concatenate it with all hidden states \"a\" (≈ 1 line)\n",
    "    s_prev = repeator(s_prev)\n",
    "    # Use concatenator to concatenate a and s_prev on the last axis (≈ 1 line)\n",
    "    # For grading purposes, please list 'a' first and 's_prev' second, in this order.\n",
    "    concat = concatenator([a, s_prev])\n",
    "    # Use densor1 to propagate concat through a small fully-connected neural network to compute the \"intermediate energies\" variable e. (≈1 lines)\n",
    "    e = densor1(concat)\n",
    "    # Use densor2 to propagate e through a small fully-connected neural network to compute the \"energies\" variable energies. (≈1 lines)\n",
    "    energies = densor2(e)\n",
    "    # Use \"activator\" on \"energies\" to compute the attention weights \"alphas\" (≈ 1 line)\n",
    "    alphas = activator(energies)\n",
    "    # Use dotor together with \"alphas\" and \"a\" to compute the context vector to be given to the next (post-attention) LSTM-cell (≈ 1 line)\n",
    "    context = dotor([alphas, a])\n",
    "    ### END CODE HERE ###\n",
    "    \n",
    "    return context"
   ]
  },
  {
   "cell_type": "markdown",
   "metadata": {},
   "source": [
    "You will be able to check the expected output of `one_step_attention()` after you've coded the `model()` function."
   ]
  },
  {
   "cell_type": "markdown",
   "metadata": {},
   "source": [
    "#### model\n",
    "* `model` first runs the input through a Bi-LSTM to get $[a^{<1>},a^{<2>}, ..., a^{<T_x>}]$. \n",
    "* Then, `model` calls `one_step_attention()` $T_y$ times using a `for` loop.  At each iteration of this loop:\n",
    "    - It gives the computed context vector $context^{<t>}$ to the post-attention LSTM.\n",
    "    - It runs the output of the post-attention LSTM through a dense layer with softmax activation.\n",
    "    - The softmax generates a prediction $\\hat{y}^{<t>}$. "
   ]
  },
  {
   "cell_type": "markdown",
   "metadata": {},
   "source": [
    "**Exercise**: Implement `model()` as explained in figure 1 and the text above. Again, we have defined global layers that will share weights to be used in `model()`."
   ]
  },
  {
   "cell_type": "code",
   "execution_count": 10,
   "metadata": {},
   "outputs": [],
   "source": [
    "n_a = 32 # number of units for the pre-attention, bi-directional LSTM's hidden state 'a'\n",
    "n_s = 64 # number of units for the post-attention LSTM's hidden state \"s\"\n",
    "\n",
    "# Please note, this is the post attention LSTM cell.  \n",
    "# For the purposes of passing the automatic grader\n",
    "# please do not modify this global variable.  This will be corrected once the automatic grader is also updated.\n",
    "post_activation_LSTM_cell = LSTM(n_s, return_state = True) # post-attention LSTM \n",
    "output_layer = Dense(len(machine_vocab), activation=softmax)"
   ]
  },
  {
   "cell_type": "markdown",
   "metadata": {},
   "source": [
    "Now you can use these layers $T_y$ times in a `for` loop to generate the outputs, and their parameters will not be reinitialized. You will have to carry out the following steps: \n",
    "\n",
    "1. Propagate the input `X` into a bi-directional LSTM.\n",
    "    * [Bidirectional](https://keras.io/layers/wrappers/#bidirectional) \n",
    "    * [LSTM](https://keras.io/layers/recurrent/#lstm)\n",
    "    * Remember that we want the LSTM to return a full sequence instead of just the last hidden state.  \n",
    "    \n",
    "Sample code:\n",
    "\n",
    "```Python\n",
    "sequence_of_hidden_states = Bidirectional(LSTM(units=..., return_sequences=...))(the_input_X)\n",
    "```\n",
    "    \n",
    "2. Iterate for $t = 0, \\cdots, T_y-1$: \n",
    "    1. Call `one_step_attention()`, passing in the sequence of hidden states $[a^{\\langle 1 \\rangle},a^{\\langle 2 \\rangle}, ..., a^{ \\langle T_x \\rangle}]$ from the pre-attention bi-directional LSTM, and the previous hidden state $s^{<t-1>}$ from the post-attention LSTM to calculate the context vector $context^{<t>}$.\n",
    "    2. Give $context^{<t>}$ to the post-attention LSTM cell. \n",
    "        - Remember to pass in the previous hidden-state $s^{\\langle t-1\\rangle}$ and cell-states $c^{\\langle t-1\\rangle}$ of this LSTM \n",
    "        * This outputs the new hidden state $s^{<t>}$ and the new cell state $c^{<t>}$.  \n",
    "\n",
    "        Sample code:\n",
    "        ```Python\n",
    "        next_hidden_state, _ , next_cell_state = \n",
    "            post_activation_LSTM_cell(inputs=..., initial_state=[prev_hidden_state, prev_cell_state])\n",
    "        ```   \n",
    "        Please note that the layer is actually the \"post attention LSTM cell\".  For the purposes of passing the automatic grader, please do not modify the naming of this global variable.  This will be fixed when we deploy updates to the automatic grader.\n",
    "    3. Apply a dense, softmax layer to $s^{<t>}$, get the output.  \n",
    "        Sample code:\n",
    "        ```Python\n",
    "        output = output_layer(inputs=...)\n",
    "        ```\n",
    "    4. Save the output by adding it to the list of outputs.\n",
    "\n",
    "3. Create your Keras model instance.\n",
    "    * It should have three inputs:\n",
    "        * `X`, the one-hot encoded inputs to the model, of shape ($T_{x}, humanVocabSize)$\n",
    "        * $s^{\\langle 0 \\rangle}$, the initial hidden state of the post-attention LSTM\n",
    "        * $c^{\\langle 0 \\rangle}$), the initial cell state of the post-attention LSTM\n",
    "    * The output is the list of outputs.  \n",
    "    Sample code\n",
    "    ```Python\n",
    "    model = Model(inputs=[...,...,...], outputs=...)\n",
    "    ```"
   ]
  },
  {
   "cell_type": "code",
   "execution_count": 11,
   "metadata": {},
   "outputs": [],
   "source": [
    "# GRADED FUNCTION: model\n",
    "\n",
    "def model(Tx, Ty, n_a, n_s, human_vocab_size, machine_vocab_size):\n",
    "    \"\"\"\n",
    "    Arguments:\n",
    "    Tx -- length of the input sequence\n",
    "    Ty -- length of the output sequence\n",
    "    n_a -- hidden state size of the Bi-LSTM\n",
    "    n_s -- hidden state size of the post-attention LSTM\n",
    "    human_vocab_size -- size of the python dictionary \"human_vocab\"\n",
    "    machine_vocab_size -- size of the python dictionary \"machine_vocab\"\n",
    "\n",
    "    Returns:\n",
    "    model -- Keras model instance\n",
    "    \"\"\"\n",
    "    \n",
    "    # Define the inputs of your model with a shape (Tx,)\n",
    "    # Define s0 (initial hidden state) and c0 (initial cell state)\n",
    "    # for the decoder LSTM with shape (n_s,)\n",
    "    X = Input(shape=(Tx, human_vocab_size))\n",
    "    s0 = Input(shape=(n_s,), name='s0')\n",
    "    c0 = Input(shape=(n_s,), name='c0')\n",
    "    s = s0\n",
    "    c = c0\n",
    "    \n",
    "    # Initialize empty list of outputs\n",
    "    outputs = []\n",
    "    \n",
    "    ### START CODE HERE ###\n",
    "    \n",
    "    # Step 1: Define your pre-attention Bi-LSTM. (≈ 1 line)\n",
    "    a = Bidirectional(LSTM(n_a, return_sequences=True, name='bidirectional_1'), merge_mode='concat')(X)\n",
    "    \n",
    "    # Step 2: Iterate for Ty steps\n",
    "    for t in range(Ty):\n",
    "    \n",
    "        # Step 2.A: Perform one step of the attention mechanism to get back the context vector at step t (≈ 1 line)\n",
    "        context = one_step_attention(a, s)\n",
    "        \n",
    "        # Step 2.B: Apply the post-attention LSTM cell to the \"context\" vector.\n",
    "        # Don't forget to pass: initial_state = [hidden state, cell state] (≈ 1 line)\n",
    "        s, _, c = post_activation_LSTM_cell(context, initial_state = [s, c])\n",
    "        \n",
    "        # Step 2.C: Apply Dense layer to the hidden state output of the post-attention LSTM (≈ 1 line)\n",
    "        out = output_layer(s)\n",
    "        \n",
    "        # Step 2.D: Append \"out\" to the \"outputs\" list (≈ 1 line)\n",
    "        outputs.append(out)\n",
    "    \n",
    "    # Step 3: Create model instance taking three inputs and returning the list of outputs. (≈ 1 line)\n",
    "    model = Model(inputs=(X, s0, c0), outputs=outputs)\n",
    "    \n",
    "    ### END CODE HERE ###\n",
    "    \n",
    "    return model"
   ]
  },
  {
   "cell_type": "code",
   "execution_count": 12,
   "metadata": {},
   "outputs": [
    {
     "data": {
      "text/plain": [
       "37"
      ]
     },
     "execution_count": 12,
     "metadata": {},
     "output_type": "execute_result"
    }
   ],
   "source": [
    "len(human_vocab)"
   ]
  },
  {
   "cell_type": "markdown",
   "metadata": {},
   "source": [
    "Run the following cell to create your model."
   ]
  },
  {
   "cell_type": "code",
   "execution_count": 13,
   "metadata": {},
   "outputs": [],
   "source": [
    "model = model(Tx, Ty, n_a, n_s, len(human_vocab), len(machine_vocab))"
   ]
  },
  {
   "cell_type": "markdown",
   "metadata": {},
   "source": [
    "#### Troubleshooting Note\n",
    "* If you are getting repeated errors after an initially incorrect implementation of \"model\", but believe that you have corrected the error, you may still see error messages when building your model.  \n",
    "* A solution is to save and restart your kernel (or shutdown then restart your notebook), and re-run the cells."
   ]
  },
  {
   "cell_type": "markdown",
   "metadata": {},
   "source": [
    "Let's get a summary of the model to check if it matches the expected output."
   ]
  },
  {
   "cell_type": "code",
   "execution_count": 14,
   "metadata": {},
   "outputs": [
    {
     "name": "stdout",
     "output_type": "stream",
     "text": [
      "Model: \"model_1\"\n",
      "__________________________________________________________________________________________________\n",
      "Layer (type)                    Output Shape         Param #     Connected to                     \n",
      "==================================================================================================\n",
      "input_1 (InputLayer)            (None, 30, 37)       0                                            \n",
      "__________________________________________________________________________________________________\n",
      "s0 (InputLayer)                 (None, 64)           0                                            \n",
      "__________________________________________________________________________________________________\n",
      "bidirectional_1 (Bidirectional) (None, 30, 64)       17920       input_1[0][0]                    \n",
      "__________________________________________________________________________________________________\n",
      "repeat_vector_1 (RepeatVector)  (None, 30, 64)       0           s0[0][0]                         \n",
      "                                                                 lstm_1[0][0]                     \n",
      "                                                                 lstm_1[1][0]                     \n",
      "                                                                 lstm_1[2][0]                     \n",
      "                                                                 lstm_1[3][0]                     \n",
      "                                                                 lstm_1[4][0]                     \n",
      "                                                                 lstm_1[5][0]                     \n",
      "                                                                 lstm_1[6][0]                     \n",
      "                                                                 lstm_1[7][0]                     \n",
      "                                                                 lstm_1[8][0]                     \n",
      "__________________________________________________________________________________________________\n",
      "concatenate_1 (Concatenate)     (None, 30, 128)      0           bidirectional_1[0][0]            \n",
      "                                                                 repeat_vector_1[0][0]            \n",
      "                                                                 bidirectional_1[0][0]            \n",
      "                                                                 repeat_vector_1[1][0]            \n",
      "                                                                 bidirectional_1[0][0]            \n",
      "                                                                 repeat_vector_1[2][0]            \n",
      "                                                                 bidirectional_1[0][0]            \n",
      "                                                                 repeat_vector_1[3][0]            \n",
      "                                                                 bidirectional_1[0][0]            \n",
      "                                                                 repeat_vector_1[4][0]            \n",
      "                                                                 bidirectional_1[0][0]            \n",
      "                                                                 repeat_vector_1[5][0]            \n",
      "                                                                 bidirectional_1[0][0]            \n",
      "                                                                 repeat_vector_1[6][0]            \n",
      "                                                                 bidirectional_1[0][0]            \n",
      "                                                                 repeat_vector_1[7][0]            \n",
      "                                                                 bidirectional_1[0][0]            \n",
      "                                                                 repeat_vector_1[8][0]            \n",
      "                                                                 bidirectional_1[0][0]            \n",
      "                                                                 repeat_vector_1[9][0]            \n",
      "__________________________________________________________________________________________________\n",
      "dense_1 (Dense)                 (None, 30, 10)       1290        concatenate_1[0][0]              \n",
      "                                                                 concatenate_1[1][0]              \n",
      "                                                                 concatenate_1[2][0]              \n",
      "                                                                 concatenate_1[3][0]              \n",
      "                                                                 concatenate_1[4][0]              \n",
      "                                                                 concatenate_1[5][0]              \n",
      "                                                                 concatenate_1[6][0]              \n",
      "                                                                 concatenate_1[7][0]              \n",
      "                                                                 concatenate_1[8][0]              \n",
      "                                                                 concatenate_1[9][0]              \n",
      "__________________________________________________________________________________________________\n",
      "dense_2 (Dense)                 (None, 30, 1)        11          dense_1[0][0]                    \n",
      "                                                                 dense_1[1][0]                    \n",
      "                                                                 dense_1[2][0]                    \n",
      "                                                                 dense_1[3][0]                    \n",
      "                                                                 dense_1[4][0]                    \n",
      "                                                                 dense_1[5][0]                    \n",
      "                                                                 dense_1[6][0]                    \n",
      "                                                                 dense_1[7][0]                    \n",
      "                                                                 dense_1[8][0]                    \n",
      "                                                                 dense_1[9][0]                    \n",
      "__________________________________________________________________________________________________\n",
      "attention_weights (Activation)  (None, 30, 1)        0           dense_2[0][0]                    \n",
      "                                                                 dense_2[1][0]                    \n",
      "                                                                 dense_2[2][0]                    \n",
      "                                                                 dense_2[3][0]                    \n",
      "                                                                 dense_2[4][0]                    \n",
      "                                                                 dense_2[5][0]                    \n",
      "                                                                 dense_2[6][0]                    \n",
      "                                                                 dense_2[7][0]                    \n",
      "                                                                 dense_2[8][0]                    \n",
      "                                                                 dense_2[9][0]                    \n",
      "__________________________________________________________________________________________________\n",
      "dot_1 (Dot)                     (None, 1, 64)        0           attention_weights[0][0]          \n",
      "                                                                 bidirectional_1[0][0]            \n",
      "                                                                 attention_weights[1][0]          \n",
      "                                                                 bidirectional_1[0][0]            \n",
      "                                                                 attention_weights[2][0]          \n",
      "                                                                 bidirectional_1[0][0]            \n",
      "                                                                 attention_weights[3][0]          \n",
      "                                                                 bidirectional_1[0][0]            \n",
      "                                                                 attention_weights[4][0]          \n",
      "                                                                 bidirectional_1[0][0]            \n",
      "                                                                 attention_weights[5][0]          \n",
      "                                                                 bidirectional_1[0][0]            \n",
      "                                                                 attention_weights[6][0]          \n",
      "                                                                 bidirectional_1[0][0]            \n",
      "                                                                 attention_weights[7][0]          \n",
      "                                                                 bidirectional_1[0][0]            \n",
      "                                                                 attention_weights[8][0]          \n",
      "                                                                 bidirectional_1[0][0]            \n",
      "                                                                 attention_weights[9][0]          \n",
      "                                                                 bidirectional_1[0][0]            \n",
      "__________________________________________________________________________________________________\n",
      "c0 (InputLayer)                 (None, 64)           0                                            \n",
      "__________________________________________________________________________________________________\n",
      "lstm_1 (LSTM)                   [(None, 64), (None,  33024       dot_1[0][0]                      \n",
      "                                                                 s0[0][0]                         \n",
      "                                                                 c0[0][0]                         \n",
      "                                                                 dot_1[1][0]                      \n",
      "                                                                 lstm_1[0][0]                     \n",
      "                                                                 lstm_1[0][2]                     \n",
      "                                                                 dot_1[2][0]                      \n",
      "                                                                 lstm_1[1][0]                     \n",
      "                                                                 lstm_1[1][2]                     \n",
      "                                                                 dot_1[3][0]                      \n",
      "                                                                 lstm_1[2][0]                     \n",
      "                                                                 lstm_1[2][2]                     \n",
      "                                                                 dot_1[4][0]                      \n",
      "                                                                 lstm_1[3][0]                     \n",
      "                                                                 lstm_1[3][2]                     \n",
      "                                                                 dot_1[5][0]                      \n",
      "                                                                 lstm_1[4][0]                     \n",
      "                                                                 lstm_1[4][2]                     \n",
      "                                                                 dot_1[6][0]                      \n",
      "                                                                 lstm_1[5][0]                     \n",
      "                                                                 lstm_1[5][2]                     \n",
      "                                                                 dot_1[7][0]                      \n",
      "                                                                 lstm_1[6][0]                     \n",
      "                                                                 lstm_1[6][2]                     \n",
      "                                                                 dot_1[8][0]                      \n",
      "                                                                 lstm_1[7][0]                     \n",
      "                                                                 lstm_1[7][2]                     \n",
      "                                                                 dot_1[9][0]                      \n",
      "                                                                 lstm_1[8][0]                     \n",
      "                                                                 lstm_1[8][2]                     \n",
      "__________________________________________________________________________________________________\n",
      "dense_3 (Dense)                 (None, 11)           715         lstm_1[0][0]                     \n",
      "                                                                 lstm_1[1][0]                     \n",
      "                                                                 lstm_1[2][0]                     \n",
      "                                                                 lstm_1[3][0]                     \n",
      "                                                                 lstm_1[4][0]                     \n",
      "                                                                 lstm_1[5][0]                     \n",
      "                                                                 lstm_1[6][0]                     \n",
      "                                                                 lstm_1[7][0]                     \n",
      "                                                                 lstm_1[8][0]                     \n",
      "                                                                 lstm_1[9][0]                     \n",
      "==================================================================================================\n",
      "Total params: 52,960\n",
      "Trainable params: 52,960\n",
      "Non-trainable params: 0\n",
      "__________________________________________________________________________________________________\n"
     ]
    }
   ],
   "source": [
    "model.summary()"
   ]
  },
  {
   "cell_type": "markdown",
   "metadata": {},
   "source": [
    "**Expected Output**:\n",
    "\n",
    "Here is the summary you should see\n",
    "<table>\n",
    "    <tr>\n",
    "        <td>\n",
    "            **Total params:**\n",
    "        </td>\n",
    "        <td>\n",
    "         52,960\n",
    "        </td>\n",
    "    </tr>\n",
    "        <tr>\n",
    "        <td>\n",
    "            **Trainable params:**\n",
    "        </td>\n",
    "        <td>\n",
    "         52,960\n",
    "        </td>\n",
    "    </tr>\n",
    "            <tr>\n",
    "        <td>\n",
    "            **Non-trainable params:**\n",
    "        </td>\n",
    "        <td>\n",
    "         0\n",
    "        </td>\n",
    "    </tr>\n",
    "                    <tr>\n",
    "        <td>\n",
    "            **bidirectional_1's output shape **\n",
    "        </td>\n",
    "        <td>\n",
    "         (None, 30, 64)  \n",
    "        </td>\n",
    "    </tr>\n",
    "    <tr>\n",
    "        <td>\n",
    "            **repeat_vector_1's output shape **\n",
    "        </td>\n",
    "        <td>\n",
    "         (None, 30, 64) \n",
    "        </td>\n",
    "    </tr>\n",
    "                <tr>\n",
    "        <td>\n",
    "            **concatenate_1's output shape **\n",
    "        </td>\n",
    "        <td>\n",
    "         (None, 30, 128) \n",
    "        </td>\n",
    "    </tr>\n",
    "            <tr>\n",
    "        <td>\n",
    "            **attention_weights's output shape **\n",
    "        </td>\n",
    "        <td>\n",
    "         (None, 30, 1)  \n",
    "        </td>\n",
    "    </tr>\n",
    "        <tr>\n",
    "        <td>\n",
    "            **dot_1's output shape **\n",
    "        </td>\n",
    "        <td>\n",
    "         (None, 1, 64)\n",
    "        </td>\n",
    "    </tr>\n",
    "           <tr>\n",
    "        <td>\n",
    "            **dense_3's output shape **\n",
    "        </td>\n",
    "        <td>\n",
    "         (None, 11) \n",
    "        </td>\n",
    "    </tr>\n",
    "</table>\n"
   ]
  },
  {
   "cell_type": "markdown",
   "metadata": {},
   "source": [
    "#### Compile the model\n",
    "* After creating your model in Keras, you need to compile it and define the loss function, optimizer and metrics you want to use. \n",
    "    * Loss function: 'categorical_crossentropy'.\n",
    "    * Optimizer: [Adam](https://keras.io/optimizers/#adam) [optimizer](https://keras.io/optimizers/#usage-of-optimizers)\n",
    "        - learning rate = 0.005 \n",
    "        - $\\beta_1 = 0.9$\n",
    "        - $\\beta_2 = 0.999$\n",
    "        - decay = 0.01  \n",
    "    * metric: 'accuracy'\n",
    "    \n",
    "Sample code\n",
    "```Python\n",
    "optimizer = Adam(lr=..., beta_1=..., beta_2=..., decay=...)\n",
    "model.compile(optimizer=..., loss=..., metrics=[...])\n",
    "```"
   ]
  },
  {
   "cell_type": "code",
   "execution_count": 15,
   "metadata": {},
   "outputs": [],
   "source": [
    "### START CODE HERE ### (≈2 lines)\n",
    "from keras import optimizers\n",
    "\n",
    "opt = optimizers.Adam(lr=0.005, beta_1=0.9, beta_2=0.999, epsilon=None, decay=0.001)\n",
    "model.compile(loss='categorical_crossentropy', optimizer='adam', metrics=['accuracy'])\n",
    "### END CODE HERE ###"
   ]
  },
  {
   "cell_type": "markdown",
   "metadata": {},
   "source": [
    "#### Define inputs and outputs, and fit the model\n",
    "The last step is to define all your inputs and outputs to fit the model:\n",
    "- You have input X of shape $(m = 10000, T_x = 30)$ containing the training examples.\n",
    "- You need to create `s0` and `c0` to initialize your `post_attention_LSTM_cell` with zeros.\n",
    "- Given the `model()` you coded, you need the \"outputs\" to be a list of 10 elements of shape (m, T_y). \n",
    "    - The list `outputs[i][0], ..., outputs[i][Ty]` represents the true labels (characters) corresponding to the $i^{th}$ training example (`X[i]`). \n",
    "    - `outputs[i][j]` is the true label of the $j^{th}$ character in the $i^{th}$ training example."
   ]
  },
  {
   "cell_type": "code",
   "execution_count": 16,
   "metadata": {},
   "outputs": [],
   "source": [
    "s0 = np.zeros((m, n_s))\n",
    "c0 = np.zeros((m, n_s))\n",
    "outputs = list(Yoh.swapaxes(0,1))"
   ]
  },
  {
   "cell_type": "code",
   "execution_count": 17,
   "metadata": {},
   "outputs": [
    {
     "data": {
      "text/plain": [
       "(10000, 30, 37)"
      ]
     },
     "execution_count": 17,
     "metadata": {},
     "output_type": "execute_result"
    }
   ],
   "source": [
    "Xoh.shape"
   ]
  },
  {
   "cell_type": "markdown",
   "metadata": {},
   "source": [
    "Let's now fit the model and run it for one epoch."
   ]
  },
  {
   "cell_type": "code",
   "execution_count": 18,
   "metadata": {},
   "outputs": [
    {
     "name": "stdout",
     "output_type": "stream",
     "text": [
      "Epoch 1/50\n",
      "10000/10000 [==============================] - 10s 977us/step - loss: 20.6229 - dense_3_loss: 2.7408 - dense_3_accuracy: 0.1321 - dense_3_accuracy_1: 0.3749 - dense_3_accuracy_2: 0.1735 - dense_3_accuracy_3: 0.0459 - dense_3_accuracy_4: 0.9766 - dense_3_accuracy_5: 0.0075 - dense_3_accuracy_6: 0.0020 - dense_3_accuracy_7: 0.9326 - dense_3_accuracy_8: 0.1136 - dense_3_accuracy_9: 0.0594\n",
      "Epoch 2/50\n",
      "10000/10000 [==============================] - 5s 520us/step - loss: 14.2016 - dense_3_loss: 2.3848 - dense_3_accuracy: 0.8714 - dense_3_accuracy_1: 0.9176 - dense_3_accuracy_2: 0.3768 - dense_3_accuracy_3: 0.0764 - dense_3_accuracy_4: 0.9971 - dense_3_accuracy_5: 0.5567 - dense_3_accuracy_6: 0.0575 - dense_3_accuracy_7: 0.9955 - dense_3_accuracy_8: 0.3909 - dense_3_accuracy_9: 0.1434\n",
      "Epoch 3/50\n",
      "10000/10000 [==============================] - 5s 473us/step - loss: 10.0061 - dense_3_loss: 2.2168 - dense_3_accuracy: 0.9579 - dense_3_accuracy_1: 0.9595 - dense_3_accuracy_2: 0.4561 - dense_3_accuracy_3: 0.1307 - dense_3_accuracy_4: 1.0000 - dense_3_accuracy_5: 0.7837 - dense_3_accuracy_6: 0.2675 - dense_3_accuracy_7: 1.0000 - dense_3_accuracy_8: 0.5463 - dense_3_accuracy_9: 0.1807\n",
      "Epoch 4/50\n",
      "10000/10000 [==============================] - 4s 442us/step - loss: 8.8650 - dense_3_loss: 2.1856 - dense_3_accuracy: 0.9679 - dense_3_accuracy_1: 0.9703 - dense_3_accuracy_2: 0.4952 - dense_3_accuracy_3: 0.1610 - dense_3_accuracy_4: 1.0000 - dense_3_accuracy_5: 0.9307 - dense_3_accuracy_6: 0.3068 - dense_3_accuracy_7: 1.0000 - dense_3_accuracy_8: 0.6282 - dense_3_accuracy_9: 0.1990\n",
      "Epoch 5/50\n",
      "10000/10000 [==============================] - 5s 475us/step - loss: 8.3427 - dense_3_loss: 2.1630 - dense_3_accuracy: 0.9700 - dense_3_accuracy_1: 0.9703 - dense_3_accuracy_2: 0.5106 - dense_3_accuracy_3: 0.1878 - dense_3_accuracy_4: 1.0000 - dense_3_accuracy_5: 0.9563 - dense_3_accuracy_6: 0.3579 - dense_3_accuracy_7: 1.0000 - dense_3_accuracy_8: 0.6512 - dense_3_accuracy_9: 0.2018\n",
      "Epoch 6/50\n",
      "10000/10000 [==============================] - 4s 425us/step - loss: 7.9784 - dense_3_loss: 2.1243 - dense_3_accuracy: 0.9719 - dense_3_accuracy_1: 0.9732 - dense_3_accuracy_2: 0.5541 - dense_3_accuracy_3: 0.2274 - dense_3_accuracy_4: 1.0000 - dense_3_accuracy_5: 0.9628 - dense_3_accuracy_6: 0.4055 - dense_3_accuracy_7: 1.0000 - dense_3_accuracy_8: 0.6660 - dense_3_accuracy_9: 0.2120\n",
      "Epoch 7/50\n",
      "10000/10000 [==============================] - 4s 429us/step - loss: 7.5207 - dense_3_loss: 2.0527 - dense_3_accuracy: 0.9744 - dense_3_accuracy_1: 0.9749 - dense_3_accuracy_2: 0.5989 - dense_3_accuracy_3: 0.2702 - dense_3_accuracy_4: 0.9999 - dense_3_accuracy_5: 0.9636 - dense_3_accuracy_6: 0.4606 - dense_3_accuracy_7: 1.0000 - dense_3_accuracy_8: 0.6780 - dense_3_accuracy_9: 0.2364\n",
      "Epoch 8/50\n",
      "10000/10000 [==============================] - 4s 427us/step - loss: 7.1256 - dense_3_loss: 1.9815 - dense_3_accuracy: 0.9753 - dense_3_accuracy_1: 0.9755 - dense_3_accuracy_2: 0.6266 - dense_3_accuracy_3: 0.3031 - dense_3_accuracy_4: 1.0000 - dense_3_accuracy_5: 0.9678 - dense_3_accuracy_6: 0.5078 - dense_3_accuracy_7: 0.9999 - dense_3_accuracy_8: 0.6909 - dense_3_accuracy_9: 0.2654\n",
      "Epoch 9/50\n",
      "10000/10000 [==============================] - 4s 437us/step - loss: 6.8148 - dense_3_loss: 1.9140 - dense_3_accuracy: 0.9751 - dense_3_accuracy_1: 0.9760 - dense_3_accuracy_2: 0.6505 - dense_3_accuracy_3: 0.3280 - dense_3_accuracy_4: 1.0000 - dense_3_accuracy_5: 0.9675 - dense_3_accuracy_6: 0.5502 - dense_3_accuracy_7: 0.9999 - dense_3_accuracy_8: 0.6902 - dense_3_accuracy_9: 0.2843\n",
      "Epoch 10/50\n",
      "10000/10000 [==============================] - 4s 431us/step - loss: 6.4537 - dense_3_loss: 1.8042 - dense_3_accuracy: 0.9780 - dense_3_accuracy_1: 0.9781 - dense_3_accuracy_2: 0.6743 - dense_3_accuracy_3: 0.3502 - dense_3_accuracy_4: 1.0000 - dense_3_accuracy_5: 0.9710 - dense_3_accuracy_6: 0.5957 - dense_3_accuracy_7: 0.9999 - dense_3_accuracy_8: 0.7030 - dense_3_accuracy_9: 0.3201\n",
      "Epoch 11/50\n",
      "10000/10000 [==============================] - 4s 442us/step - loss: 6.0866 - dense_3_loss: 1.6741 - dense_3_accuracy: 0.9773 - dense_3_accuracy_1: 0.9774 - dense_3_accuracy_2: 0.7023 - dense_3_accuracy_3: 0.3833 - dense_3_accuracy_4: 1.0000 - dense_3_accuracy_5: 0.9670 - dense_3_accuracy_6: 0.6281 - dense_3_accuracy_7: 1.0000 - dense_3_accuracy_8: 0.7209 - dense_3_accuracy_9: 0.3652\n",
      "Epoch 12/50\n",
      "10000/10000 [==============================] - 4s 445us/step - loss: 5.6739 - dense_3_loss: 1.5269 - dense_3_accuracy: 0.9790 - dense_3_accuracy_1: 0.9796 - dense_3_accuracy_2: 0.7306 - dense_3_accuracy_3: 0.4264 - dense_3_accuracy_4: 1.0000 - dense_3_accuracy_5: 0.9727 - dense_3_accuracy_6: 0.6639 - dense_3_accuracy_7: 1.0000 - dense_3_accuracy_8: 0.7430 - dense_3_accuracy_9: 0.4129\n",
      "Epoch 13/50\n",
      "10000/10000 [==============================] - 5s 451us/step - loss: 5.3322 - dense_3_loss: 1.4130 - dense_3_accuracy: 0.9788 - dense_3_accuracy_1: 0.9792 - dense_3_accuracy_2: 0.7551 - dense_3_accuracy_3: 0.4577 - dense_3_accuracy_4: 1.0000 - dense_3_accuracy_5: 0.9730 - dense_3_accuracy_6: 0.6879 - dense_3_accuracy_7: 0.9999 - dense_3_accuracy_8: 0.7641 - dense_3_accuracy_9: 0.4496\n",
      "Epoch 14/50\n",
      "10000/10000 [==============================] - 4s 450us/step - loss: 4.9645 - dense_3_loss: 1.3052 - dense_3_accuracy: 0.9779 - dense_3_accuracy_1: 0.9785 - dense_3_accuracy_2: 0.7833 - dense_3_accuracy_3: 0.4954 - dense_3_accuracy_4: 1.0000 - dense_3_accuracy_5: 0.9731 - dense_3_accuracy_6: 0.7167 - dense_3_accuracy_7: 1.0000 - dense_3_accuracy_8: 0.7841 - dense_3_accuracy_9: 0.4827\n",
      "Epoch 15/50\n",
      "10000/10000 [==============================] - 4s 442us/step - loss: 4.6231 - dense_3_loss: 1.2174 - dense_3_accuracy: 0.9791 - dense_3_accuracy_1: 0.9794 - dense_3_accuracy_2: 0.8045 - dense_3_accuracy_3: 0.5303 - dense_3_accuracy_4: 1.0000 - dense_3_accuracy_5: 0.9753 - dense_3_accuracy_6: 0.7377 - dense_3_accuracy_7: 1.0000 - dense_3_accuracy_8: 0.7947 - dense_3_accuracy_9: 0.5116\n",
      "Epoch 16/50\n",
      "10000/10000 [==============================] - 4s 445us/step - loss: 4.3448 - dense_3_loss: 1.1419 - dense_3_accuracy: 0.9792 - dense_3_accuracy_1: 0.9791 - dense_3_accuracy_2: 0.8218 - dense_3_accuracy_3: 0.5624 - dense_3_accuracy_4: 1.0000 - dense_3_accuracy_5: 0.9748 - dense_3_accuracy_6: 0.7520 - dense_3_accuracy_7: 0.9998 - dense_3_accuracy_8: 0.8077 - dense_3_accuracy_9: 0.5373\n",
      "Epoch 17/50\n",
      "10000/10000 [==============================] - 5s 482us/step - loss: 4.0398 - dense_3_loss: 1.0666 - dense_3_accuracy: 0.9795 - dense_3_accuracy_1: 0.9793 - dense_3_accuracy_2: 0.8343 - dense_3_accuracy_3: 0.6047 - dense_3_accuracy_4: 1.0000 - dense_3_accuracy_5: 0.9767 - dense_3_accuracy_6: 0.7780 - dense_3_accuracy_7: 0.9998 - dense_3_accuracy_8: 0.8159 - dense_3_accuracy_9: 0.5737\n",
      "Epoch 18/50\n",
      "10000/10000 [==============================] - 5s 491us/step - loss: 3.7574 - dense_3_loss: 1.0026 - dense_3_accuracy: 0.9798 - dense_3_accuracy_1: 0.9802 - dense_3_accuracy_2: 0.8420 - dense_3_accuracy_3: 0.6370 - dense_3_accuracy_4: 1.0000 - dense_3_accuracy_5: 0.9783 - dense_3_accuracy_6: 0.8013 - dense_3_accuracy_7: 0.9999 - dense_3_accuracy_8: 0.8257 - dense_3_accuracy_9: 0.5999\n",
      "Epoch 19/50\n",
      "10000/10000 [==============================] - 5s 475us/step - loss: 3.4729 - dense_3_loss: 0.9218 - dense_3_accuracy: 0.9803 - dense_3_accuracy_1: 0.9804 - dense_3_accuracy_2: 0.8477 - dense_3_accuracy_3: 0.6878 - dense_3_accuracy_4: 1.0000 - dense_3_accuracy_5: 0.9796 - dense_3_accuracy_6: 0.8223 - dense_3_accuracy_7: 0.9999 - dense_3_accuracy_8: 0.8297 - dense_3_accuracy_9: 0.6365\n",
      "Epoch 20/50\n",
      "10000/10000 [==============================] - 5s 466us/step - loss: 3.2224 - dense_3_loss: 0.8578 - dense_3_accuracy: 0.9793 - dense_3_accuracy_1: 0.9800 - dense_3_accuracy_2: 0.8492 - dense_3_accuracy_3: 0.7280 - dense_3_accuracy_4: 1.0000 - dense_3_accuracy_5: 0.9802 - dense_3_accuracy_6: 0.8403 - dense_3_accuracy_7: 1.0000 - dense_3_accuracy_8: 0.8371 - dense_3_accuracy_9: 0.6680\n",
      "Epoch 21/50\n"
     ]
    },
    {
     "name": "stdout",
     "output_type": "stream",
     "text": [
      "10000/10000 [==============================] - 5s 476us/step - loss: 2.9712 - dense_3_loss: 0.7835 - dense_3_accuracy: 0.9802 - dense_3_accuracy_1: 0.9800 - dense_3_accuracy_2: 0.8530 - dense_3_accuracy_3: 0.7728 - dense_3_accuracy_4: 1.0000 - dense_3_accuracy_5: 0.9803 - dense_3_accuracy_6: 0.8512 - dense_3_accuracy_7: 1.0000 - dense_3_accuracy_8: 0.8407 - dense_3_accuracy_9: 0.7037\n",
      "Epoch 22/50\n",
      "10000/10000 [==============================] - 5s 480us/step - loss: 2.7364 - dense_3_loss: 0.7065 - dense_3_accuracy: 0.9801 - dense_3_accuracy_1: 0.9793 - dense_3_accuracy_2: 0.8496 - dense_3_accuracy_3: 0.8083 - dense_3_accuracy_4: 1.0000 - dense_3_accuracy_5: 0.9823 - dense_3_accuracy_6: 0.8641 - dense_3_accuracy_7: 1.0000 - dense_3_accuracy_8: 0.8455 - dense_3_accuracy_9: 0.7324\n",
      "Epoch 23/50\n",
      "10000/10000 [==============================] - 4s 437us/step - loss: 2.5199 - dense_3_loss: 0.6409 - dense_3_accuracy: 0.9807 - dense_3_accuracy_1: 0.9813 - dense_3_accuracy_2: 0.8533 - dense_3_accuracy_3: 0.8316 - dense_3_accuracy_4: 1.0000 - dense_3_accuracy_5: 0.9808 - dense_3_accuracy_6: 0.8701 - dense_3_accuracy_7: 1.0000 - dense_3_accuracy_8: 0.8508 - dense_3_accuracy_9: 0.7591\n",
      "Epoch 24/50\n",
      "10000/10000 [==============================] - 5s 529us/step - loss: 2.3543 - dense_3_loss: 0.5956 - dense_3_accuracy: 0.9807 - dense_3_accuracy_1: 0.9803 - dense_3_accuracy_2: 0.8532 - dense_3_accuracy_3: 0.8538 - dense_3_accuracy_4: 0.9999 - dense_3_accuracy_5: 0.9818 - dense_3_accuracy_6: 0.8775 - dense_3_accuracy_7: 1.0000 - dense_3_accuracy_8: 0.8529 - dense_3_accuracy_9: 0.7725\n",
      "Epoch 25/50\n",
      "10000/10000 [==============================] - 7s 680us/step - loss: 2.1595 - dense_3_loss: 0.5354 - dense_3_accuracy: 0.9815 - dense_3_accuracy_1: 0.9813 - dense_3_accuracy_2: 0.8573 - dense_3_accuracy_3: 0.8740 - dense_3_accuracy_4: 0.9999 - dense_3_accuracy_5: 0.9836 - dense_3_accuracy_6: 0.8905 - dense_3_accuracy_7: 1.0000 - dense_3_accuracy_8: 0.8610 - dense_3_accuracy_9: 0.8004\n",
      "Epoch 26/50\n",
      "10000/10000 [==============================] - 5s 519us/step - loss: 2.0195 - dense_3_loss: 0.5034 - dense_3_accuracy: 0.9823 - dense_3_accuracy_1: 0.9820 - dense_3_accuracy_2: 0.8607 - dense_3_accuracy_3: 0.8881 - dense_3_accuracy_4: 0.9999 - dense_3_accuracy_5: 0.9827 - dense_3_accuracy_6: 0.8971 - dense_3_accuracy_7: 1.0000 - dense_3_accuracy_8: 0.8715 - dense_3_accuracy_9: 0.8083\n",
      "Epoch 27/50\n",
      "10000/10000 [==============================] - 5s 505us/step - loss: 1.8812 - dense_3_loss: 0.4686 - dense_3_accuracy: 0.9829 - dense_3_accuracy_1: 0.9830 - dense_3_accuracy_2: 0.8656 - dense_3_accuracy_3: 0.9005 - dense_3_accuracy_4: 0.9999 - dense_3_accuracy_5: 0.9829 - dense_3_accuracy_6: 0.9022 - dense_3_accuracy_7: 1.0000 - dense_3_accuracy_8: 0.8777 - dense_3_accuracy_9: 0.8269\n",
      "Epoch 28/50\n",
      "10000/10000 [==============================] - 5s 533us/step - loss: 1.7493 - dense_3_loss: 0.4440 - dense_3_accuracy: 0.9839 - dense_3_accuracy_1: 0.9848 - dense_3_accuracy_2: 0.8694 - dense_3_accuracy_3: 0.9084 - dense_3_accuracy_4: 0.9999 - dense_3_accuracy_5: 0.9848 - dense_3_accuracy_6: 0.9086 - dense_3_accuracy_7: 1.0000 - dense_3_accuracy_8: 0.8885 - dense_3_accuracy_9: 0.8324\n",
      "Epoch 29/50\n",
      "10000/10000 [==============================] - 5s 497us/step - loss: 1.6791 - dense_3_loss: 0.4198 - dense_3_accuracy: 0.9858 - dense_3_accuracy_1: 0.9844 - dense_3_accuracy_2: 0.8780 - dense_3_accuracy_3: 0.9136 - dense_3_accuracy_4: 0.9999 - dense_3_accuracy_5: 0.9824 - dense_3_accuracy_6: 0.9092 - dense_3_accuracy_7: 1.0000 - dense_3_accuracy_8: 0.8913 - dense_3_accuracy_9: 0.8443\n",
      "Epoch 30/50\n",
      "10000/10000 [==============================] - 5s 516us/step - loss: 1.5696 - dense_3_loss: 0.3931 - dense_3_accuracy: 0.9869 - dense_3_accuracy_1: 0.9858 - dense_3_accuracy_2: 0.8853 - dense_3_accuracy_3: 0.9154 - dense_3_accuracy_4: 0.9999 - dense_3_accuracy_5: 0.9848 - dense_3_accuracy_6: 0.9141 - dense_3_accuracy_7: 1.0000 - dense_3_accuracy_8: 0.9028 - dense_3_accuracy_9: 0.8535\n",
      "Epoch 31/50\n",
      "10000/10000 [==============================] - 6s 579us/step - loss: 1.4280 - dense_3_loss: 0.3548 - dense_3_accuracy: 0.9879 - dense_3_accuracy_1: 0.9868 - dense_3_accuracy_2: 0.8927 - dense_3_accuracy_3: 0.9179 - dense_3_accuracy_4: 1.0000 - dense_3_accuracy_5: 0.9860 - dense_3_accuracy_6: 0.9203 - dense_3_accuracy_7: 1.0000 - dense_3_accuracy_8: 0.9178 - dense_3_accuracy_9: 0.8652\n",
      "Epoch 32/50\n",
      "10000/10000 [==============================] - 6s 648us/step - loss: 1.3441 - dense_3_loss: 0.3366 - dense_3_accuracy: 0.9906 - dense_3_accuracy_1: 0.9889 - dense_3_accuracy_2: 0.9022 - dense_3_accuracy_3: 0.9240 - dense_3_accuracy_4: 1.0000 - dense_3_accuracy_5: 0.9851 - dense_3_accuracy_6: 0.9264 - dense_3_accuracy_7: 1.0000 - dense_3_accuracy_8: 0.9244 - dense_3_accuracy_9: 0.8758\n",
      "Epoch 33/50\n",
      "10000/10000 [==============================] - 5s 487us/step - loss: 1.2371 - dense_3_loss: 0.3134 - dense_3_accuracy: 0.9926 - dense_3_accuracy_1: 0.9907 - dense_3_accuracy_2: 0.9143 - dense_3_accuracy_3: 0.9279 - dense_3_accuracy_4: 1.0000 - dense_3_accuracy_5: 0.9856 - dense_3_accuracy_6: 0.9304 - dense_3_accuracy_7: 1.0000 - dense_3_accuracy_8: 0.9342 - dense_3_accuracy_9: 0.8869\n",
      "Epoch 34/50\n",
      "10000/10000 [==============================] - 5s 479us/step - loss: 1.1580 - dense_3_loss: 0.2868 - dense_3_accuracy: 0.9953 - dense_3_accuracy_1: 0.9931 - dense_3_accuracy_2: 0.9245 - dense_3_accuracy_3: 0.9364 - dense_3_accuracy_4: 1.0000 - dense_3_accuracy_5: 0.9837 - dense_3_accuracy_6: 0.9269 - dense_3_accuracy_7: 1.0000 - dense_3_accuracy_8: 0.9377 - dense_3_accuracy_9: 0.8971\n",
      "Epoch 35/50\n",
      "10000/10000 [==============================] - 5s 488us/step - loss: 1.0804 - dense_3_loss: 0.2749 - dense_3_accuracy: 0.9967 - dense_3_accuracy_1: 0.9950 - dense_3_accuracy_2: 0.9297 - dense_3_accuracy_3: 0.9505 - dense_3_accuracy_4: 1.0000 - dense_3_accuracy_5: 0.9868 - dense_3_accuracy_6: 0.9307 - dense_3_accuracy_7: 1.0000 - dense_3_accuracy_8: 0.9433 - dense_3_accuracy_9: 0.9002\n",
      "Epoch 36/50\n",
      "10000/10000 [==============================] - 6s 562us/step - loss: 1.0118 - dense_3_loss: 0.2608 - dense_3_accuracy: 0.9976 - dense_3_accuracy_1: 0.9964 - dense_3_accuracy_2: 0.9342 - dense_3_accuracy_3: 0.9615 - dense_3_accuracy_4: 1.0000 - dense_3_accuracy_5: 0.9870 - dense_3_accuracy_6: 0.9327 - dense_3_accuracy_7: 1.0000 - dense_3_accuracy_8: 0.9445 - dense_3_accuracy_9: 0.9073\n",
      "Epoch 37/50\n",
      "10000/10000 [==============================] - 5s 515us/step - loss: 0.9431 - dense_3_loss: 0.2496 - dense_3_accuracy: 0.9984 - dense_3_accuracy_1: 0.9979 - dense_3_accuracy_2: 0.9388 - dense_3_accuracy_3: 0.9682 - dense_3_accuracy_4: 1.0000 - dense_3_accuracy_5: 0.9869 - dense_3_accuracy_6: 0.9375 - dense_3_accuracy_7: 1.0000 - dense_3_accuracy_8: 0.9486 - dense_3_accuracy_9: 0.9141\n",
      "Epoch 38/50\n",
      "10000/10000 [==============================] - 5s 481us/step - loss: 0.9034 - dense_3_loss: 0.2330 - dense_3_accuracy: 0.9994 - dense_3_accuracy_1: 0.9981 - dense_3_accuracy_2: 0.9420 - dense_3_accuracy_3: 0.9759 - dense_3_accuracy_4: 1.0000 - dense_3_accuracy_5: 0.9863 - dense_3_accuracy_6: 0.9325 - dense_3_accuracy_7: 1.0000 - dense_3_accuracy_8: 0.9513 - dense_3_accuracy_9: 0.9232\n",
      "Epoch 39/50\n",
      "10000/10000 [==============================] - 5s 530us/step - loss: 0.8130 - dense_3_loss: 0.2126 - dense_3_accuracy: 0.9994 - dense_3_accuracy_1: 0.9992 - dense_3_accuracy_2: 0.9474 - dense_3_accuracy_3: 0.9800 - dense_3_accuracy_4: 1.0000 - dense_3_accuracy_5: 0.9881 - dense_3_accuracy_6: 0.9414 - dense_3_accuracy_7: 1.0000 - dense_3_accuracy_8: 0.9593 - dense_3_accuracy_9: 0.9324\n",
      "Epoch 40/50\n",
      "10000/10000 [==============================] - 5s 524us/step - loss: 0.7494 - dense_3_loss: 0.1953 - dense_3_accuracy: 0.9996 - dense_3_accuracy_1: 0.9992 - dense_3_accuracy_2: 0.9522 - dense_3_accuracy_3: 0.9842 - dense_3_accuracy_4: 1.0000 - dense_3_accuracy_5: 0.9896 - dense_3_accuracy_6: 0.9424 - dense_3_accuracy_7: 1.0000 - dense_3_accuracy_8: 0.9641 - dense_3_accuracy_9: 0.9393\n",
      "Epoch 41/50\n"
     ]
    },
    {
     "name": "stdout",
     "output_type": "stream",
     "text": [
      "10000/10000 [==============================] - 6s 562us/step - loss: 0.7137 - dense_3_loss: 0.1870 - dense_3_accuracy: 0.9995 - dense_3_accuracy_1: 0.9993 - dense_3_accuracy_2: 0.9540 - dense_3_accuracy_3: 0.9856 - dense_3_accuracy_4: 1.0000 - dense_3_accuracy_5: 0.9892 - dense_3_accuracy_6: 0.9462 - dense_3_accuracy_7: 1.0000 - dense_3_accuracy_8: 0.9648 - dense_3_accuracy_9: 0.9421\n",
      "Epoch 42/50\n",
      "10000/10000 [==============================] - 5s 456us/step - loss: 0.6635 - dense_3_loss: 0.1657 - dense_3_accuracy: 0.9998 - dense_3_accuracy_1: 0.9997 - dense_3_accuracy_2: 0.9576 - dense_3_accuracy_3: 0.9863 - dense_3_accuracy_4: 1.0000 - dense_3_accuracy_5: 0.9895 - dense_3_accuracy_6: 0.9434 - dense_3_accuracy_7: 1.0000 - dense_3_accuracy_8: 0.9687 - dense_3_accuracy_9: 0.9523\n",
      "Epoch 43/50\n",
      "10000/10000 [==============================] - 4s 446us/step - loss: 0.6369 - dense_3_loss: 0.1578 - dense_3_accuracy: 0.9998 - dense_3_accuracy_1: 0.9996 - dense_3_accuracy_2: 0.9611 - dense_3_accuracy_3: 0.9889 - dense_3_accuracy_4: 1.0000 - dense_3_accuracy_5: 0.9893 - dense_3_accuracy_6: 0.9433 - dense_3_accuracy_7: 1.0000 - dense_3_accuracy_8: 0.9722 - dense_3_accuracy_9: 0.9543\n",
      "Epoch 44/50\n",
      "10000/10000 [==============================] - 5s 468us/step - loss: 0.6024 - dense_3_loss: 0.1484 - dense_3_accuracy: 0.9998 - dense_3_accuracy_1: 0.9996 - dense_3_accuracy_2: 0.9650 - dense_3_accuracy_3: 0.9885 - dense_3_accuracy_4: 1.0000 - dense_3_accuracy_5: 0.9899 - dense_3_accuracy_6: 0.9460 - dense_3_accuracy_7: 1.0000 - dense_3_accuracy_8: 0.9771 - dense_3_accuracy_9: 0.9574\n",
      "Epoch 45/50\n",
      "10000/10000 [==============================] - 5s 508us/step - loss: 0.5335 - dense_3_loss: 0.1296 - dense_3_accuracy: 0.9998 - dense_3_accuracy_1: 0.9998 - dense_3_accuracy_2: 0.9697 - dense_3_accuracy_3: 0.9900 - dense_3_accuracy_4: 1.0000 - dense_3_accuracy_5: 0.9916 - dense_3_accuracy_6: 0.9516 - dense_3_accuracy_7: 1.0000 - dense_3_accuracy_8: 0.9798 - dense_3_accuracy_9: 0.9622\n",
      "Epoch 46/50\n",
      "10000/10000 [==============================] - 7s 680us/step - loss: 0.5138 - dense_3_loss: 0.1230 - dense_3_accuracy: 0.9997 - dense_3_accuracy_1: 0.9997 - dense_3_accuracy_2: 0.9725 - dense_3_accuracy_3: 0.9909 - dense_3_accuracy_4: 1.0000 - dense_3_accuracy_5: 0.9920 - dense_3_accuracy_6: 0.9508 - dense_3_accuracy_7: 1.0000 - dense_3_accuracy_8: 0.9810 - dense_3_accuracy_9: 0.9650\n",
      "Epoch 47/50\n",
      "10000/10000 [==============================] - 5s 514us/step - loss: 0.4987 - dense_3_loss: 0.1201 - dense_3_accuracy: 0.9999 - dense_3_accuracy_1: 0.9998 - dense_3_accuracy_2: 0.9755 - dense_3_accuracy_3: 0.9933 - dense_3_accuracy_4: 1.0000 - dense_3_accuracy_5: 0.9923 - dense_3_accuracy_6: 0.9496 - dense_3_accuracy_7: 1.0000 - dense_3_accuracy_8: 0.9794 - dense_3_accuracy_9: 0.9659\n",
      "Epoch 48/50\n",
      "10000/10000 [==============================] - 5s 491us/step - loss: 0.4603 - dense_3_loss: 0.1143 - dense_3_accuracy: 0.9999 - dense_3_accuracy_1: 0.9999 - dense_3_accuracy_2: 0.9808 - dense_3_accuracy_3: 0.9949 - dense_3_accuracy_4: 1.0000 - dense_3_accuracy_5: 0.9915 - dense_3_accuracy_6: 0.9527 - dense_3_accuracy_7: 1.0000 - dense_3_accuracy_8: 0.9848 - dense_3_accuracy_9: 0.9687\n",
      "Epoch 49/50\n",
      "10000/10000 [==============================] - 4s 446us/step - loss: 0.4237 - dense_3_loss: 0.1064 - dense_3_accuracy: 0.9998 - dense_3_accuracy_1: 0.9999 - dense_3_accuracy_2: 0.9832 - dense_3_accuracy_3: 0.9955 - dense_3_accuracy_4: 0.9999 - dense_3_accuracy_5: 0.9926 - dense_3_accuracy_6: 0.9555 - dense_3_accuracy_7: 1.0000 - dense_3_accuracy_8: 0.9860 - dense_3_accuracy_9: 0.9675\n",
      "Epoch 50/50\n",
      "10000/10000 [==============================] - 5s 452us/step - loss: 0.4299 - dense_3_loss: 0.1129 - dense_3_accuracy: 0.9998 - dense_3_accuracy_1: 0.9998 - dense_3_accuracy_2: 0.9853 - dense_3_accuracy_3: 0.9957 - dense_3_accuracy_4: 0.9999 - dense_3_accuracy_5: 0.9931 - dense_3_accuracy_6: 0.9571 - dense_3_accuracy_7: 1.0000 - dense_3_accuracy_8: 0.9847 - dense_3_accuracy_9: 0.9667\n"
     ]
    },
    {
     "data": {
      "text/plain": [
       "<keras.callbacks.callbacks.History at 0x14c42ea90>"
      ]
     },
     "execution_count": 18,
     "metadata": {},
     "output_type": "execute_result"
    }
   ],
   "source": [
    "model.fit([Xoh, s0, c0], outputs, epochs=50, batch_size=100)"
   ]
  },
  {
   "cell_type": "markdown",
   "metadata": {},
   "source": [
    "While training you can see the loss as well as the accuracy on each of the 10 positions of the output. The table below gives you an example of what the accuracies could be if the batch had 2 examples: \n",
    "\n",
    "<img src=\"images/table.png\" style=\"width:700;height:200px;\"> <br>\n",
    "<caption><center>Thus, `dense_2_acc_8: 0.89` means that you are predicting the 7th character of the output correctly 89% of the time in the current batch of data. </center></caption>\n",
    "\n",
    "\n",
    "We have run this model for longer, and saved the weights. Run the next cell to load our weights. (By training a model for several minutes, you should be able to obtain a model of similar accuracy, but loading our model will save you time.) "
   ]
  },
  {
   "cell_type": "code",
   "execution_count": 19,
   "metadata": {},
   "outputs": [],
   "source": [
    "# model.load_weights('models/model.h5')"
   ]
  },
  {
   "cell_type": "code",
   "execution_count": 20,
   "metadata": {},
   "outputs": [],
   "source": [
    "EXAMPLES = ['3 May 1979', '5 April 09', '21th of August 2016', 'Tue 10 Jul 2007', 'Saturday May 9 2018', 'March 3 2001', 'March 3rd 2001', '1 March 2001']\n",
    "sourceX = np.array([string_to_int(i, Tx, human_vocab) for i in EXAMPLES])\n",
    "sourceXoh = np.array(list(map(lambda x: to_categorical(x, num_classes=len(human_vocab)), sourceX)))"
   ]
  },
  {
   "cell_type": "code",
   "execution_count": 21,
   "metadata": {},
   "outputs": [],
   "source": [
    "prediction = model.predict([sourceXoh, s0, c0])"
   ]
  },
  {
   "cell_type": "code",
   "execution_count": 22,
   "metadata": {},
   "outputs": [],
   "source": [
    "prediction = np.array(prediction)\n",
    "prediction = prediction.swapaxes(0,1)"
   ]
  },
  {
   "cell_type": "code",
   "execution_count": 23,
   "metadata": {},
   "outputs": [
    {
     "name": "stdout",
     "output_type": "stream",
     "text": [
      "source: 3 May 1979\n",
      "output: 1979-05-03 \n",
      "\n",
      "source: 5 April 09\n",
      "output: 2999-04-04 \n",
      "\n",
      "source: 21th of August 2016\n",
      "output: 2016-08-21 \n",
      "\n",
      "source: Tue 10 Jul 2007\n",
      "output: 2007-07-00 \n",
      "\n",
      "source: Saturday May 9 2018\n",
      "output: 2018-05-09 \n",
      "\n",
      "source: March 3 2001\n",
      "output: 2001-03-03 \n",
      "\n",
      "source: March 3rd 2001\n",
      "output: 2001-03-03 \n",
      "\n",
      "source: 1 March 2001\n",
      "output: 2001-03-01 \n",
      "\n"
     ]
    }
   ],
   "source": [
    "for i, example in enumerate(EXAMPLES):\n",
    "    out = np.argmax(prediction[i], axis=1)\n",
    "    output = [inv_machine_vocab[int(i)] for i in out]\n",
    "    print(\"source:\", example)\n",
    "    print(\"output:\", ''.join(output),\"\\n\")"
   ]
  },
  {
   "cell_type": "markdown",
   "metadata": {},
   "source": [
    "You can now see the results on new examples."
   ]
  },
  {
   "cell_type": "code",
   "execution_count": 24,
   "metadata": {},
   "outputs": [],
   "source": [
    "# EXAMPLES = ['3 May 1979', '5 April 09', '21th of August 2016', 'Tue 10 Jul 2007', 'Saturday May 9 2018', 'March 3 2001', 'March 3rd 2001', '1 March 2001']\n",
    "# for example in EXAMPLES:\n",
    "    \n",
    "#     source = string_to_int(example, Tx, human_vocab)\n",
    "#     source = np.array(list(map(lambda x: to_categorical(x, num_classes=len(human_vocab)), source))).swapaxes(0,1)\n",
    "#     prediction = model.predict([source, s0, c0])\n",
    "#     prediction = np.argmax(prediction, axis = -1)\n",
    "#     output = [inv_machine_vocab[int(i)] for i in prediction]\n",
    "    \n",
    "#     print(\"source:\", example)\n",
    "#     print(\"output:\", ''.join(output),\"\\n\")"
   ]
  },
  {
   "cell_type": "markdown",
   "metadata": {},
   "source": [
    "You can also change these examples to test with your own examples. The next part will give you a better sense of what the attention mechanism is doing--i.e., what part of the input the network is paying attention to when generating a particular output character. "
   ]
  },
  {
   "cell_type": "markdown",
   "metadata": {},
   "source": [
    "## 3 - Visualizing Attention (Optional / Ungraded)\n",
    "\n",
    "Since the problem has a fixed output length of 10, it is also possible to carry out this task using 10 different softmax units to generate the 10 characters of the output. But one advantage of the attention model is that each part of the output (such as the month) knows it needs to depend only on a small part of the input (the characters in the input giving the month). We can  visualize what each part of the output is looking at which part of the input.\n",
    "\n",
    "Consider the task of translating \"Saturday 9 May 2018\" to \"2018-05-09\". If we visualize the computed $\\alpha^{\\langle t, t' \\rangle}$ we get this: \n",
    "\n",
    "<img src=\"images/date_attention.png\" style=\"width:600;height:300px;\"> <br>\n",
    "<caption><center> **Figure 8**: Full Attention Map</center></caption>\n",
    "\n",
    "Notice how the output ignores the \"Saturday\" portion of the input. None of the output timesteps are paying much attention to that portion of the input. We also see that 9 has been translated as 09 and May has been correctly translated into 05, with the output paying attention to the parts of the input it needs to to make the translation. The year mostly requires it to pay attention to the input's \"18\" in order to generate \"2018.\" "
   ]
  },
  {
   "cell_type": "markdown",
   "metadata": {},
   "source": [
    "### 3.1 - Getting the attention weights from the network\n",
    "\n",
    "Lets now visualize the attention values in your network. We'll propagate an example through the network, then visualize the values of $\\alpha^{\\langle t, t' \\rangle}$. \n",
    "\n",
    "To figure out where the attention values are located, let's start by printing a summary of the model ."
   ]
  },
  {
   "cell_type": "code",
   "execution_count": 25,
   "metadata": {},
   "outputs": [
    {
     "name": "stdout",
     "output_type": "stream",
     "text": [
      "Model: \"model_1\"\n",
      "__________________________________________________________________________________________________\n",
      "Layer (type)                    Output Shape         Param #     Connected to                     \n",
      "==================================================================================================\n",
      "input_1 (InputLayer)            (None, 30, 37)       0                                            \n",
      "__________________________________________________________________________________________________\n",
      "s0 (InputLayer)                 (None, 64)           0                                            \n",
      "__________________________________________________________________________________________________\n",
      "bidirectional_1 (Bidirectional) (None, 30, 64)       17920       input_1[0][0]                    \n",
      "__________________________________________________________________________________________________\n",
      "repeat_vector_1 (RepeatVector)  (None, 30, 64)       0           s0[0][0]                         \n",
      "                                                                 lstm_1[0][0]                     \n",
      "                                                                 lstm_1[1][0]                     \n",
      "                                                                 lstm_1[2][0]                     \n",
      "                                                                 lstm_1[3][0]                     \n",
      "                                                                 lstm_1[4][0]                     \n",
      "                                                                 lstm_1[5][0]                     \n",
      "                                                                 lstm_1[6][0]                     \n",
      "                                                                 lstm_1[7][0]                     \n",
      "                                                                 lstm_1[8][0]                     \n",
      "__________________________________________________________________________________________________\n",
      "concatenate_1 (Concatenate)     (None, 30, 128)      0           bidirectional_1[0][0]            \n",
      "                                                                 repeat_vector_1[0][0]            \n",
      "                                                                 bidirectional_1[0][0]            \n",
      "                                                                 repeat_vector_1[1][0]            \n",
      "                                                                 bidirectional_1[0][0]            \n",
      "                                                                 repeat_vector_1[2][0]            \n",
      "                                                                 bidirectional_1[0][0]            \n",
      "                                                                 repeat_vector_1[3][0]            \n",
      "                                                                 bidirectional_1[0][0]            \n",
      "                                                                 repeat_vector_1[4][0]            \n",
      "                                                                 bidirectional_1[0][0]            \n",
      "                                                                 repeat_vector_1[5][0]            \n",
      "                                                                 bidirectional_1[0][0]            \n",
      "                                                                 repeat_vector_1[6][0]            \n",
      "                                                                 bidirectional_1[0][0]            \n",
      "                                                                 repeat_vector_1[7][0]            \n",
      "                                                                 bidirectional_1[0][0]            \n",
      "                                                                 repeat_vector_1[8][0]            \n",
      "                                                                 bidirectional_1[0][0]            \n",
      "                                                                 repeat_vector_1[9][0]            \n",
      "__________________________________________________________________________________________________\n",
      "dense_1 (Dense)                 (None, 30, 10)       1290        concatenate_1[0][0]              \n",
      "                                                                 concatenate_1[1][0]              \n",
      "                                                                 concatenate_1[2][0]              \n",
      "                                                                 concatenate_1[3][0]              \n",
      "                                                                 concatenate_1[4][0]              \n",
      "                                                                 concatenate_1[5][0]              \n",
      "                                                                 concatenate_1[6][0]              \n",
      "                                                                 concatenate_1[7][0]              \n",
      "                                                                 concatenate_1[8][0]              \n",
      "                                                                 concatenate_1[9][0]              \n",
      "__________________________________________________________________________________________________\n",
      "dense_2 (Dense)                 (None, 30, 1)        11          dense_1[0][0]                    \n",
      "                                                                 dense_1[1][0]                    \n",
      "                                                                 dense_1[2][0]                    \n",
      "                                                                 dense_1[3][0]                    \n",
      "                                                                 dense_1[4][0]                    \n",
      "                                                                 dense_1[5][0]                    \n",
      "                                                                 dense_1[6][0]                    \n",
      "                                                                 dense_1[7][0]                    \n",
      "                                                                 dense_1[8][0]                    \n",
      "                                                                 dense_1[9][0]                    \n",
      "__________________________________________________________________________________________________\n",
      "attention_weights (Activation)  (None, 30, 1)        0           dense_2[0][0]                    \n",
      "                                                                 dense_2[1][0]                    \n",
      "                                                                 dense_2[2][0]                    \n",
      "                                                                 dense_2[3][0]                    \n",
      "                                                                 dense_2[4][0]                    \n",
      "                                                                 dense_2[5][0]                    \n",
      "                                                                 dense_2[6][0]                    \n",
      "                                                                 dense_2[7][0]                    \n",
      "                                                                 dense_2[8][0]                    \n",
      "                                                                 dense_2[9][0]                    \n",
      "__________________________________________________________________________________________________\n",
      "dot_1 (Dot)                     (None, 1, 64)        0           attention_weights[0][0]          \n",
      "                                                                 bidirectional_1[0][0]            \n",
      "                                                                 attention_weights[1][0]          \n",
      "                                                                 bidirectional_1[0][0]            \n",
      "                                                                 attention_weights[2][0]          \n",
      "                                                                 bidirectional_1[0][0]            \n",
      "                                                                 attention_weights[3][0]          \n",
      "                                                                 bidirectional_1[0][0]            \n",
      "                                                                 attention_weights[4][0]          \n",
      "                                                                 bidirectional_1[0][0]            \n",
      "                                                                 attention_weights[5][0]          \n",
      "                                                                 bidirectional_1[0][0]            \n",
      "                                                                 attention_weights[6][0]          \n",
      "                                                                 bidirectional_1[0][0]            \n",
      "                                                                 attention_weights[7][0]          \n",
      "                                                                 bidirectional_1[0][0]            \n",
      "                                                                 attention_weights[8][0]          \n",
      "                                                                 bidirectional_1[0][0]            \n",
      "                                                                 attention_weights[9][0]          \n",
      "                                                                 bidirectional_1[0][0]            \n",
      "__________________________________________________________________________________________________\n",
      "c0 (InputLayer)                 (None, 64)           0                                            \n",
      "__________________________________________________________________________________________________\n",
      "lstm_1 (LSTM)                   [(None, 64), (None,  33024       dot_1[0][0]                      \n",
      "                                                                 s0[0][0]                         \n",
      "                                                                 c0[0][0]                         \n",
      "                                                                 dot_1[1][0]                      \n",
      "                                                                 lstm_1[0][0]                     \n",
      "                                                                 lstm_1[0][2]                     \n",
      "                                                                 dot_1[2][0]                      \n",
      "                                                                 lstm_1[1][0]                     \n",
      "                                                                 lstm_1[1][2]                     \n",
      "                                                                 dot_1[3][0]                      \n",
      "                                                                 lstm_1[2][0]                     \n",
      "                                                                 lstm_1[2][2]                     \n",
      "                                                                 dot_1[4][0]                      \n",
      "                                                                 lstm_1[3][0]                     \n",
      "                                                                 lstm_1[3][2]                     \n",
      "                                                                 dot_1[5][0]                      \n",
      "                                                                 lstm_1[4][0]                     \n",
      "                                                                 lstm_1[4][2]                     \n",
      "                                                                 dot_1[6][0]                      \n",
      "                                                                 lstm_1[5][0]                     \n",
      "                                                                 lstm_1[5][2]                     \n",
      "                                                                 dot_1[7][0]                      \n",
      "                                                                 lstm_1[6][0]                     \n",
      "                                                                 lstm_1[6][2]                     \n",
      "                                                                 dot_1[8][0]                      \n",
      "                                                                 lstm_1[7][0]                     \n",
      "                                                                 lstm_1[7][2]                     \n",
      "                                                                 dot_1[9][0]                      \n",
      "                                                                 lstm_1[8][0]                     \n",
      "                                                                 lstm_1[8][2]                     \n",
      "__________________________________________________________________________________________________\n",
      "dense_3 (Dense)                 (None, 11)           715         lstm_1[0][0]                     \n",
      "                                                                 lstm_1[1][0]                     \n",
      "                                                                 lstm_1[2][0]                     \n",
      "                                                                 lstm_1[3][0]                     \n",
      "                                                                 lstm_1[4][0]                     \n",
      "                                                                 lstm_1[5][0]                     \n",
      "                                                                 lstm_1[6][0]                     \n",
      "                                                                 lstm_1[7][0]                     \n",
      "                                                                 lstm_1[8][0]                     \n",
      "                                                                 lstm_1[9][0]                     \n",
      "==================================================================================================\n",
      "Total params: 52,960\n",
      "Trainable params: 52,960\n",
      "Non-trainable params: 0\n",
      "__________________________________________________________________________________________________\n"
     ]
    }
   ],
   "source": [
    "model.summary()"
   ]
  },
  {
   "cell_type": "markdown",
   "metadata": {},
   "source": [
    "Navigate through the output of `model.summary()` above. You can see that the layer named `attention_weights` outputs the `alphas` of shape (m, 30, 1) before `dot_2` computes the context vector for every time step $t = 0, \\ldots, T_y-1$. Let's get the attention weights from this layer.\n",
    "\n",
    "The function `attention_map()` pulls out the attention values from your model and plots them."
   ]
  },
  {
   "cell_type": "code",
   "execution_count": 28,
   "metadata": {
    "scrolled": false
   },
   "outputs": [
    {
     "data": {
      "text/plain": [
       "<Figure size 432x288 with 0 Axes>"
      ]
     },
     "metadata": {},
     "output_type": "display_data"
    },
    {
     "data": {
      "image/png": "[encoded data removed]",
      "text/plain": [
       "<Figure size 576x612 with 2 Axes>"
      ]
     },
     "metadata": {
      "needs_background": "light"
     },
     "output_type": "display_data"
    }
   ],
   "source": [
    "attention_map = plot_attention_map(model, human_vocab, inv_machine_vocab, \"March 3rd 2001\", num = 7, n_s = 64);"
   ]
  },
  {
   "cell_type": "markdown",
   "metadata": {},
   "source": [
    "On the generated plot you can observe the values of the attention weights for each character of the predicted output. Examine this plot and check that the places where the network is paying attention makes sense to you.\n",
    "\n",
    "In the date translation application, you will observe that most of the time attention helps predict the year, and doesn't have much impact on predicting the day or month."
   ]
  },
  {
   "cell_type": "markdown",
   "metadata": {},
   "source": [
    "### Congratulations!\n",
    "\n",
    "\n",
    "You have come to the end of this assignment \n",
    "\n",
    "## Here's what you should remember\n",
    "\n",
    "- Machine translation models can be used to map from one sequence to another. They are useful not just for translating human languages (like French->English) but also for tasks like date format translation. \n",
    "- An attention mechanism allows a network to focus on the most relevant parts of the input when producing a specific part of the output. \n",
    "- A network using an attention mechanism can translate from inputs of length $T_x$ to outputs of length $T_y$, where $T_x$ and $T_y$ can be different. \n",
    "- You can visualize attention weights $\\alpha^{\\langle t,t' \\rangle}$ to see what the network is paying attention to while generating each output."
   ]
  },
  {
   "cell_type": "markdown",
   "metadata": {},
   "source": [
    "Congratulations on finishing this assignment! You are now able to implement an attention model and use it to learn complex mappings from one sequence to another. "
   ]
  }
 ],
 "metadata": {
  "coursera": {
   "course_slug": "nlp-sequence-models",
   "graded_item_id": "n16CQ",
   "launcher_item_id": "npjGi"
  },
  "kernelspec": {
   "display_name": "Python 3",
   "language": "python",
   "name": "python3"
  },
  "language_info": {
   "codemirror_mode": {
    "name": "ipython",
    "version": 3
   },
   "file_extension": ".py",
   "mimetype": "text/x-python",
   "name": "python",
   "nbconvert_exporter": "python",
   "pygments_lexer": "ipython3",
   "version": "3.6.10"
  }
 },
 "nbformat": 4,
 "nbformat_minor": 2
}
